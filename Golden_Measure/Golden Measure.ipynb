{
 "cells": [
  {
   "cell_type": "code",
   "execution_count": 2,
   "id": "85eba0d8",
   "metadata": {},
   "outputs": [],
   "source": [
    "#Import required modules\n",
    "import cv2 as cv\n",
    "import time\n",
    "import numpy"
   ]
  },
  {
   "cell_type": "code",
   "execution_count": 3,
   "id": "9efdda02",
   "metadata": {},
   "outputs": [],
   "source": [
    "#Read in the 5 images\n",
    "img1 = cv.imread(\"img1.jpg\")\n",
    "img2 = cv.imread(\"img2.jpg\")\n",
    "img3 = cv.imread(\"img3.jpg\")\n",
    "img4 = cv.imread(\"img4.jpg\")\n",
    "img5 = cv.imread(\"img5.jpg\")"
   ]
  },
  {
   "cell_type": "code",
   "execution_count": 12,
   "id": "e9f25db4",
   "metadata": {},
   "outputs": [
    {
     "name": "stdout",
     "output_type": "stream",
     "text": [
      "img1 took an average of 1.341912031173706 ms to run.\n",
      "img2 took an average of 0.7748291492462158 ms to run.\n",
      "img3 took an average of 1.230971336364746 ms to run.\n",
      "img4 took an average of 0.726778507232666 ms to run.\n",
      "img5 took an average of 2.324632406234741 ms to run.\n"
     ]
    }
   ],
   "source": [
    "#Set the shreshold limits for the canny detection\n",
    "threshold1 = 10\n",
    "threshold2 = 10\n",
    "\n",
    "#Detect edges 100 times over each image\n",
    "edges = numpy.array([]);\n",
    "ave = 0\n",
    "for k in range(100):\n",
    "    tic = time.time()\n",
    "    cv.Canny(img1, threshold1, threshold2, edges)\n",
    "    toc = time.time()\n",
    "    ave = ave + (toc-tic);\n",
    "ave = ave/100\n",
    "print(\"img1 took an average of\" ,ave*100 ,\"ms to run.\")\n",
    "\n",
    "#Display edges to check thresholds\n",
    "# window_name = 'image'\n",
    "# cv.imshow(window_name, edges)\n",
    "\n",
    "#Detect edges 100 times over each image\n",
    "edges = numpy.array([]);\n",
    "ave = 0\n",
    "for k in range(100):\n",
    "    tic = time.time()\n",
    "    cv.Canny(img2, threshold1, threshold2, edges)\n",
    "    toc = time.time()\n",
    "    ave = ave + (toc-tic);\n",
    "ave = ave/100\n",
    "print(\"img2 took an average of\" ,ave*100 ,\"ms to run.\")\n",
    "\n",
    "#Detect edges 100 times over each image\n",
    "edges = numpy.array([]);\n",
    "ave = 0\n",
    "for k in range(100):\n",
    "    tic = time.time()\n",
    "    cv.Canny(img3, threshold1, threshold2, edges)\n",
    "    toc = time.time()\n",
    "    ave = ave + (toc-tic);\n",
    "ave = ave/100\n",
    "print(\"img3 took an average of\" ,ave*100 ,\"ms to run.\")\n",
    "\n",
    "#Detect edges 100 times over each image\n",
    "edges = numpy.array([]);\n",
    "ave = 0\n",
    "for k in range(100):\n",
    "    tic = time.time()\n",
    "    cv.Canny(img4, threshold1, threshold2, edges)\n",
    "    toc = time.time()\n",
    "    ave = ave + (toc-tic);\n",
    "ave = ave/100\n",
    "print(\"img4 took an average of\" ,ave*100 ,\"ms to run.\")\n",
    "\n",
    "#Detect edges 100 times over each image\n",
    "edges = numpy.array([]);\n",
    "ave = 0\n",
    "for k in range(100):\n",
    "    tic = time.time()\n",
    "    cv.Canny(img5, threshold1, threshold2, edges)\n",
    "    toc = time.time()\n",
    "    ave = ave + (toc-tic);\n",
    "ave = ave/100\n",
    "print(\"img5 took an average of\" ,ave*100 ,\"ms to run.\")"
   ]
  }
 ],
 "metadata": {
  "kernelspec": {
   "display_name": "Python 3 (ipykernel)",
   "language": "python",
   "name": "python3"
  },
  "language_info": {
   "codemirror_mode": {
    "name": "ipython",
    "version": 3
   },
   "file_extension": ".py",
   "mimetype": "text/x-python",
   "name": "python",
   "nbconvert_exporter": "python",
   "pygments_lexer": "ipython3",
   "version": "3.11.5"
  }
 },
 "nbformat": 4,
 "nbformat_minor": 5
}
